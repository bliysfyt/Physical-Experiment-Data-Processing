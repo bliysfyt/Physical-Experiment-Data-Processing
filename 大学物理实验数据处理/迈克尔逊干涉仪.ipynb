{
 "cells": [
  {
   "cell_type": "code",
   "execution_count": 1,
   "id": "ae83b98f-7efd-4767-9cd7-64fe7f0b9b64",
   "metadata": {},
   "outputs": [],
   "source": [
    "import pandas as pd\n",
    "import numpy as np"
   ]
  },
  {
   "cell_type": "code",
   "execution_count": 2,
   "id": "9f73e88f-a11e-44b5-9fc6-cf6e680d87bb",
   "metadata": {},
   "outputs": [
    {
     "data": {
      "text/html": [
       "<div>\n",
       "<style scoped>\n",
       "    .dataframe tbody tr th:only-of-type {\n",
       "        vertical-align: middle;\n",
       "    }\n",
       "\n",
       "    .dataframe tbody tr th {\n",
       "        vertical-align: top;\n",
       "    }\n",
       "\n",
       "    .dataframe thead th {\n",
       "        text-align: right;\n",
       "    }\n",
       "</style>\n",
       "<table border=\"1\" class=\"dataframe\">\n",
       "  <thead>\n",
       "    <tr style=\"text-align: right;\">\n",
       "      <th></th>\n",
       "      <th>位置mm</th>\n",
       "    </tr>\n",
       "  </thead>\n",
       "  <tbody>\n",
       "    <tr>\n",
       "      <th>0</th>\n",
       "      <td>33.76510</td>\n",
       "    </tr>\n",
       "    <tr>\n",
       "      <th>1</th>\n",
       "      <td>33.78595</td>\n",
       "    </tr>\n",
       "    <tr>\n",
       "      <th>2</th>\n",
       "      <td>33.79149</td>\n",
       "    </tr>\n",
       "    <tr>\n",
       "      <th>3</th>\n",
       "      <td>33.81765</td>\n",
       "    </tr>\n",
       "    <tr>\n",
       "      <th>4</th>\n",
       "      <td>33.82365</td>\n",
       "    </tr>\n",
       "    <tr>\n",
       "      <th>5</th>\n",
       "      <td>33.84005</td>\n",
       "    </tr>\n",
       "    <tr>\n",
       "      <th>6</th>\n",
       "      <td>33.85649</td>\n",
       "    </tr>\n",
       "    <tr>\n",
       "      <th>7</th>\n",
       "      <td>33.87269</td>\n",
       "    </tr>\n",
       "  </tbody>\n",
       "</table>\n",
       "</div>"
      ],
      "text/plain": [
       "       位置mm\n",
       "0  33.76510\n",
       "1  33.78595\n",
       "2  33.79149\n",
       "3  33.81765\n",
       "4  33.82365\n",
       "5  33.84005\n",
       "6  33.85649\n",
       "7  33.87269"
      ]
     },
     "execution_count": 2,
     "metadata": {},
     "output_type": "execute_result"
    }
   ],
   "source": [
    "table1=pd.DataFrame({\"位置mm\":[33.7651,33.78595,33.79149,33.81765,33.82365,33.84005,33.85649,33.87269]})\n",
    "table2=pd.DataFrame({\"距离差\":[table1[\"位置mm\"][i+4]-table1[\"位置mm\"][i] for i in range(0,4)]})\n",
    "\n",
    "table1"
   ]
  },
  {
   "cell_type": "code",
   "execution_count": 3,
   "id": "8fec29c0-b846-4b49-a3d6-e6419273939a",
   "metadata": {
    "tags": []
   },
   "outputs": [
    {
     "data": {
      "text/html": [
       "<div>\n",
       "<style scoped>\n",
       "    .dataframe tbody tr th:only-of-type {\n",
       "        vertical-align: middle;\n",
       "    }\n",
       "\n",
       "    .dataframe tbody tr th {\n",
       "        vertical-align: top;\n",
       "    }\n",
       "\n",
       "    .dataframe thead th {\n",
       "        text-align: right;\n",
       "    }\n",
       "</style>\n",
       "<table border=\"1\" class=\"dataframe\">\n",
       "  <thead>\n",
       "    <tr style=\"text-align: right;\">\n",
       "      <th></th>\n",
       "      <th>距离差</th>\n",
       "    </tr>\n",
       "  </thead>\n",
       "  <tbody>\n",
       "    <tr>\n",
       "      <th>0</th>\n",
       "      <td>0.05855</td>\n",
       "    </tr>\n",
       "    <tr>\n",
       "      <th>1</th>\n",
       "      <td>0.05410</td>\n",
       "    </tr>\n",
       "    <tr>\n",
       "      <th>2</th>\n",
       "      <td>0.06500</td>\n",
       "    </tr>\n",
       "    <tr>\n",
       "      <th>3</th>\n",
       "      <td>0.05504</td>\n",
       "    </tr>\n",
       "  </tbody>\n",
       "</table>\n",
       "</div>"
      ],
      "text/plain": [
       "       距离差\n",
       "0  0.05855\n",
       "1  0.05410\n",
       "2  0.06500\n",
       "3  0.05504"
      ]
     },
     "execution_count": 3,
     "metadata": {},
     "output_type": "execute_result"
    }
   ],
   "source": [
    "table2"
   ]
  },
  {
   "cell_type": "code",
   "execution_count": 4,
   "id": "27c3f2f9-e7be-4f8e-bc8e-33756927e949",
   "metadata": {
    "tags": []
   },
   "outputs": [
    {
     "data": {
      "text/plain": [
       "(0.058172499999999516,\n",
       " 0.0005817249999999952,\n",
       " 8.07127054361642,\n",
       " 0.00493811958137904,\n",
       " 0.00246905979068952,\n",
       " (0.058172499999999516, 0.00246905979068952),\n",
       " 4.244376278636023,\n",
       " 2.46905979068952e-05)"
      ]
     },
     "execution_count": 4,
     "metadata": {},
     "output_type": "execute_result"
    }
   ],
   "source": [
    "平均移动距离=sum(table2[\"距离差\"])/4\n",
    "平均波长=2*平均移动距离/200\n",
    "标准波长=632.80*1e-6 #mm\n",
    "百分误差=np.abs(平均波长-标准波长)/标准波长*100 #%\n",
    "样本标准偏差=np.sqrt( np.sum(np.power(table2[\"距离差\"]-平均移动距离,2)) / (4-1) )\n",
    "样本标准偏差_1=样本标准偏差/np.sqrt(4)\n",
    "样本标准偏差_2=(平均移动距离,样本标准偏差_1)\n",
    "式2_1=样本标准偏差_1/平均移动距离*100 #%\n",
    "式2_2=2*样本标准偏差_1/200\n",
    "\n",
    "\n",
    "平均移动距离,平均波长,百分误差,样本标准偏差,样本标准偏差_1,样本标准偏差_2,式2_1,式2_2"
   ]
  }
 ],
 "metadata": {
  "kernelspec": {
   "display_name": "Python 3 (ipykernel)",
   "language": "python",
   "name": "python3"
  },
  "language_info": {
   "codemirror_mode": {
    "name": "ipython",
    "version": 3
   },
   "file_extension": ".py",
   "mimetype": "text/x-python",
   "name": "python",
   "nbconvert_exporter": "python",
   "pygments_lexer": "ipython3",
   "version": "3.11.4"
  }
 },
 "nbformat": 4,
 "nbformat_minor": 5
}
