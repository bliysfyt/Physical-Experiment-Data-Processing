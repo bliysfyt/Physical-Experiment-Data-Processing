{
 "cells": [
  {
   "cell_type": "markdown",
   "id": "2e904a3c-1177-4719-aebb-4124e2bb0b6c",
   "metadata": {},
   "source": [
    "# 太阳能电池的特性测量-数据处理"
   ]
  },
  {
   "cell_type": "code",
   "execution_count": 2,
   "id": "d13f0179-6f0d-4f4e-a0ef-ada255df1fef",
   "metadata": {
    "tags": []
   },
   "outputs": [],
   "source": [
    "import pandas as pd\n",
    "import matplotlib.pyplot as plt\n",
    "import numpy as np\n",
    "\n",
    "from pylab import mpl\n",
    "mpl.rcParams[\"font.sans-serif\"] = [\"SimHei\"]\n",
    "mpl.rcParams[\"axes.unicode_minus\"] = False"
   ]
  },
  {
   "cell_type": "markdown",
   "id": "085237ee-6bc1-4461-b347-e060e241ca4d",
   "metadata": {
    "tags": []
   },
   "source": [
    "## 表1"
   ]
  },
  {
   "cell_type": "code",
   "execution_count": 3,
   "id": "994a85f1-7e94-466b-a4ac-24032e95db10",
   "metadata": {
    "tags": []
   },
   "outputs": [
    {
     "data": {
      "text/html": [
       "<div>\n",
       "<style scoped>\n",
       "    .dataframe tbody tr th:only-of-type {\n",
       "        vertical-align: middle;\n",
       "    }\n",
       "\n",
       "    .dataframe tbody tr th {\n",
       "        vertical-align: top;\n",
       "    }\n",
       "\n",
       "    .dataframe thead th {\n",
       "        text-align: right;\n",
       "    }\n",
       "</style>\n",
       "<table border=\"1\" class=\"dataframe\">\n",
       "  <thead>\n",
       "    <tr style=\"text-align: right;\">\n",
       "      <th></th>\n",
       "      <th>45mA_I</th>\n",
       "      <th>45mA_U</th>\n",
       "      <th>35mA_I</th>\n",
       "      <th>35mA_U</th>\n",
       "      <th>25mA_I</th>\n",
       "      <th>25mA_U</th>\n",
       "      <th>15mA_I</th>\n",
       "      <th>15mA_U</th>\n",
       "    </tr>\n",
       "  </thead>\n",
       "  <tbody>\n",
       "    <tr>\n",
       "      <th>0</th>\n",
       "      <td>45.0</td>\n",
       "      <td>0.22</td>\n",
       "      <td>35.0</td>\n",
       "      <td>0.17</td>\n",
       "      <td>25.0</td>\n",
       "      <td>0.13</td>\n",
       "      <td>14.9</td>\n",
       "      <td>0.07</td>\n",
       "    </tr>\n",
       "    <tr>\n",
       "      <th>1</th>\n",
       "      <td>44.0</td>\n",
       "      <td>1.70</td>\n",
       "      <td>34.9</td>\n",
       "      <td>0.53</td>\n",
       "      <td>24.7</td>\n",
       "      <td>0.30</td>\n",
       "      <td>14.8</td>\n",
       "      <td>0.44</td>\n",
       "    </tr>\n",
       "    <tr>\n",
       "      <th>2</th>\n",
       "      <td>42.6</td>\n",
       "      <td>1.82</td>\n",
       "      <td>34.6</td>\n",
       "      <td>1.06</td>\n",
       "      <td>24.5</td>\n",
       "      <td>0.97</td>\n",
       "      <td>14.7</td>\n",
       "      <td>0.76</td>\n",
       "    </tr>\n",
       "    <tr>\n",
       "      <th>3</th>\n",
       "      <td>40.5</td>\n",
       "      <td>1.87</td>\n",
       "      <td>34.5</td>\n",
       "      <td>1.60</td>\n",
       "      <td>23.3</td>\n",
       "      <td>1.60</td>\n",
       "      <td>14.6</td>\n",
       "      <td>0.98</td>\n",
       "    </tr>\n",
       "    <tr>\n",
       "      <th>4</th>\n",
       "      <td>38.2</td>\n",
       "      <td>1.90</td>\n",
       "      <td>33.3</td>\n",
       "      <td>1.76</td>\n",
       "      <td>23.6</td>\n",
       "      <td>1.72</td>\n",
       "      <td>14.6</td>\n",
       "      <td>1.17</td>\n",
       "    </tr>\n",
       "    <tr>\n",
       "      <th>5</th>\n",
       "      <td>36.5</td>\n",
       "      <td>1.92</td>\n",
       "      <td>32.4</td>\n",
       "      <td>1.80</td>\n",
       "      <td>22.4</td>\n",
       "      <td>1.80</td>\n",
       "      <td>14.6</td>\n",
       "      <td>1.38</td>\n",
       "    </tr>\n",
       "    <tr>\n",
       "      <th>6</th>\n",
       "      <td>34.1</td>\n",
       "      <td>1.94</td>\n",
       "      <td>30.4</td>\n",
       "      <td>1.86</td>\n",
       "      <td>21.7</td>\n",
       "      <td>1.83</td>\n",
       "      <td>14.1</td>\n",
       "      <td>1.61</td>\n",
       "    </tr>\n",
       "    <tr>\n",
       "      <th>7</th>\n",
       "      <td>32.1</td>\n",
       "      <td>1.96</td>\n",
       "      <td>29.0</td>\n",
       "      <td>1.88</td>\n",
       "      <td>20.0</td>\n",
       "      <td>1.87</td>\n",
       "      <td>13.7</td>\n",
       "      <td>1.66</td>\n",
       "    </tr>\n",
       "    <tr>\n",
       "      <th>8</th>\n",
       "      <td>30.1</td>\n",
       "      <td>1.97</td>\n",
       "      <td>27.3</td>\n",
       "      <td>1.91</td>\n",
       "      <td>19.1</td>\n",
       "      <td>1.89</td>\n",
       "      <td>12.6</td>\n",
       "      <td>1.76</td>\n",
       "    </tr>\n",
       "    <tr>\n",
       "      <th>9</th>\n",
       "      <td>28.4</td>\n",
       "      <td>1.98</td>\n",
       "      <td>25.9</td>\n",
       "      <td>1.92</td>\n",
       "      <td>18.1</td>\n",
       "      <td>1.90</td>\n",
       "      <td>11.6</td>\n",
       "      <td>1.81</td>\n",
       "    </tr>\n",
       "    <tr>\n",
       "      <th>10</th>\n",
       "      <td>26.0</td>\n",
       "      <td>2.00</td>\n",
       "      <td>23.9</td>\n",
       "      <td>1.94</td>\n",
       "      <td>17.2</td>\n",
       "      <td>1.92</td>\n",
       "      <td>11.6</td>\n",
       "      <td>1.81</td>\n",
       "    </tr>\n",
       "    <tr>\n",
       "      <th>11</th>\n",
       "      <td>24.3</td>\n",
       "      <td>2.01</td>\n",
       "      <td>22.8</td>\n",
       "      <td>1.95</td>\n",
       "      <td>16.0</td>\n",
       "      <td>1.93</td>\n",
       "      <td>10.7</td>\n",
       "      <td>1.83</td>\n",
       "    </tr>\n",
       "    <tr>\n",
       "      <th>12</th>\n",
       "      <td>22.0</td>\n",
       "      <td>2.02</td>\n",
       "      <td>21.8</td>\n",
       "      <td>1.96</td>\n",
       "      <td>15.0</td>\n",
       "      <td>1.95</td>\n",
       "      <td>9.7</td>\n",
       "      <td>1.86</td>\n",
       "    </tr>\n",
       "    <tr>\n",
       "      <th>13</th>\n",
       "      <td>20.2</td>\n",
       "      <td>2.02</td>\n",
       "      <td>20.3</td>\n",
       "      <td>1.97</td>\n",
       "      <td>14.1</td>\n",
       "      <td>1.96</td>\n",
       "      <td>9.2</td>\n",
       "      <td>1.87</td>\n",
       "    </tr>\n",
       "    <tr>\n",
       "      <th>14</th>\n",
       "      <td>18.2</td>\n",
       "      <td>2.03</td>\n",
       "      <td>19.2</td>\n",
       "      <td>1.98</td>\n",
       "      <td>13.3</td>\n",
       "      <td>1.96</td>\n",
       "      <td>9.2</td>\n",
       "      <td>1.87</td>\n",
       "    </tr>\n",
       "    <tr>\n",
       "      <th>15</th>\n",
       "      <td>16.1</td>\n",
       "      <td>2.04</td>\n",
       "      <td>18.0</td>\n",
       "      <td>1.99</td>\n",
       "      <td>12.0</td>\n",
       "      <td>1.98</td>\n",
       "      <td>8.6</td>\n",
       "      <td>1.89</td>\n",
       "    </tr>\n",
       "    <tr>\n",
       "      <th>16</th>\n",
       "      <td>14.0</td>\n",
       "      <td>2.05</td>\n",
       "      <td>16.5</td>\n",
       "      <td>2.00</td>\n",
       "      <td>11.2</td>\n",
       "      <td>1.98</td>\n",
       "      <td>7.8</td>\n",
       "      <td>1.90</td>\n",
       "    </tr>\n",
       "    <tr>\n",
       "      <th>17</th>\n",
       "      <td>12.1</td>\n",
       "      <td>2.06</td>\n",
       "      <td>14.5</td>\n",
       "      <td>2.01</td>\n",
       "      <td>10.7</td>\n",
       "      <td>1.99</td>\n",
       "      <td>7.5</td>\n",
       "      <td>1.91</td>\n",
       "    </tr>\n",
       "    <tr>\n",
       "      <th>18</th>\n",
       "      <td>10.4</td>\n",
       "      <td>2.06</td>\n",
       "      <td>13.9</td>\n",
       "      <td>2.01</td>\n",
       "      <td>9.1</td>\n",
       "      <td>2.00</td>\n",
       "      <td>NaN</td>\n",
       "      <td>NaN</td>\n",
       "    </tr>\n",
       "    <tr>\n",
       "      <th>19</th>\n",
       "      <td>8.2</td>\n",
       "      <td>2.07</td>\n",
       "      <td>12.4</td>\n",
       "      <td>2.02</td>\n",
       "      <td>7.9</td>\n",
       "      <td>2.01</td>\n",
       "      <td>NaN</td>\n",
       "      <td>NaN</td>\n",
       "    </tr>\n",
       "    <tr>\n",
       "      <th>20</th>\n",
       "      <td>NaN</td>\n",
       "      <td>NaN</td>\n",
       "      <td>11.7</td>\n",
       "      <td>2.03</td>\n",
       "      <td>NaN</td>\n",
       "      <td>NaN</td>\n",
       "      <td>NaN</td>\n",
       "      <td>NaN</td>\n",
       "    </tr>\n",
       "    <tr>\n",
       "      <th>21</th>\n",
       "      <td>NaN</td>\n",
       "      <td>NaN</td>\n",
       "      <td>10.1</td>\n",
       "      <td>2.03</td>\n",
       "      <td>NaN</td>\n",
       "      <td>NaN</td>\n",
       "      <td>NaN</td>\n",
       "      <td>NaN</td>\n",
       "    </tr>\n",
       "    <tr>\n",
       "      <th>22</th>\n",
       "      <td>NaN</td>\n",
       "      <td>NaN</td>\n",
       "      <td>8.0</td>\n",
       "      <td>2.04</td>\n",
       "      <td>NaN</td>\n",
       "      <td>NaN</td>\n",
       "      <td>NaN</td>\n",
       "      <td>NaN</td>\n",
       "    </tr>\n",
       "  </tbody>\n",
       "</table>\n",
       "</div>"
      ],
      "text/plain": [
       "    45mA_I  45mA_U  35mA_I  35mA_U  25mA_I  25mA_U  15mA_I  15mA_U\n",
       "0     45.0    0.22    35.0    0.17    25.0    0.13    14.9    0.07\n",
       "1     44.0    1.70    34.9    0.53    24.7    0.30    14.8    0.44\n",
       "2     42.6    1.82    34.6    1.06    24.5    0.97    14.7    0.76\n",
       "3     40.5    1.87    34.5    1.60    23.3    1.60    14.6    0.98\n",
       "4     38.2    1.90    33.3    1.76    23.6    1.72    14.6    1.17\n",
       "5     36.5    1.92    32.4    1.80    22.4    1.80    14.6    1.38\n",
       "6     34.1    1.94    30.4    1.86    21.7    1.83    14.1    1.61\n",
       "7     32.1    1.96    29.0    1.88    20.0    1.87    13.7    1.66\n",
       "8     30.1    1.97    27.3    1.91    19.1    1.89    12.6    1.76\n",
       "9     28.4    1.98    25.9    1.92    18.1    1.90    11.6    1.81\n",
       "10    26.0    2.00    23.9    1.94    17.2    1.92    11.6    1.81\n",
       "11    24.3    2.01    22.8    1.95    16.0    1.93    10.7    1.83\n",
       "12    22.0    2.02    21.8    1.96    15.0    1.95     9.7    1.86\n",
       "13    20.2    2.02    20.3    1.97    14.1    1.96     9.2    1.87\n",
       "14    18.2    2.03    19.2    1.98    13.3    1.96     9.2    1.87\n",
       "15    16.1    2.04    18.0    1.99    12.0    1.98     8.6    1.89\n",
       "16    14.0    2.05    16.5    2.00    11.2    1.98     7.8    1.90\n",
       "17    12.1    2.06    14.5    2.01    10.7    1.99     7.5    1.91\n",
       "18    10.4    2.06    13.9    2.01     9.1    2.00     NaN     NaN\n",
       "19     8.2    2.07    12.4    2.02     7.9    2.01     NaN     NaN\n",
       "20     NaN     NaN    11.7    2.03     NaN     NaN     NaN     NaN\n",
       "21     NaN     NaN    10.1    2.03     NaN     NaN     NaN     NaN\n",
       "22     NaN     NaN     8.0    2.04     NaN     NaN     NaN     NaN"
      ]
     },
     "execution_count": 3,
     "metadata": {},
     "output_type": "execute_result"
    }
   ],
   "source": [
    "data1=pd.read_csv(\"太阳能电池.csv\")\n",
    "data1"
   ]
  },
  {
   "cell_type": "markdown",
   "id": "12abac0c-afa6-4e19-9586-40458182d525",
   "metadata": {},
   "source": [
    "## 表2"
   ]
  },
  {
   "cell_type": "code",
   "execution_count": 9,
   "id": "0aff31b8-7ee3-4fcd-a8a3-9fbafe7c42f5",
   "metadata": {
    "tags": []
   },
   "outputs": [
    {
     "data": {
      "text/plain": [
       "1    6.512\n",
       "Name: 15mA_P, dtype: float64"
      ]
     },
     "execution_count": 9,
     "metadata": {},
     "output_type": "execute_result"
    }
   ],
   "source": [
    "data2=pd.DataFrame({\"45mA_P\":data1[\"45mA_U\"]*data1[\"45mA_I\"],\"45mA_R\":data1[\"45mA_U\"]/(data1[\"45mA_I\"]*0.001),\n",
    "                    \"35mA_P\":data1[\"35mA_U\"]*data1[\"35mA_I\"],\"35mA_R\":data1[\"35mA_U\"]/(data1[\"35mA_I\"]*0.001),\n",
    "                   \"25mA_P\":data1[\"25mA_U\"]*data1[\"25mA_I\"],\"25mA_R\":data1[\"25mA_U\"]/(data1[\"25mA_I\"]*0.001),\n",
    "                   \"15mA_P\":data1[\"15mA_U\"]*data1[\"15mA_I\"],\"15mA_R\":data1[\"15mA_U\"]/(data1[\"15mA_I\"]*0.001)})\n",
    "data2[\"15mA_P\"]"
   ]
  },
  {
   "cell_type": "markdown",
   "id": "3126604b-0dbb-4076-8499-58ffb81dd1da",
   "metadata": {
    "tags": []
   },
   "source": [
    "## U-I曲线与P-R曲线"
   ]
  },
  {
   "cell_type": "code",
   "execution_count": 4,
   "id": "d95a3cf4-53f7-4a73-896b-61eb4b73475e",
   "metadata": {
    "tags": []
   },
   "outputs": [
    {
     "data": {
      "image/png": "[encoded data removed]",
      "text/plain": [
       "<Figure size 1000x600 with 2 Axes>"
      ]
     },
     "metadata": {},
     "output_type": "display_data"
    }
   ],
   "source": [
    "fig, axs = plt.subplots(1,2,figsize=(10, 6))\n",
    "\n",
    "axs[0].set_title('U-I曲线')\n",
    "\n",
    "for i  in range(1,5):\n",
    "    axs[0].plot(data1[f\"{i}5mA_U\"],data1[f\"{i}5mA_I\"])\n",
    "\n",
    "axs[0].set_xlabel('U(V)')\n",
    "axs[0].set_ylabel('I(mA)')\n",
    "axs[0].legend([f'{i}5mA' for i in range(1,5)])\n",
    "axs[0].spines[[\"top\", \"right\"]].set_visible(False)\n",
    "\n",
    "axs[1].set_title('P-R曲线')\n",
    "for i  in range(1,5):\n",
    "    axs[1].plot(data2[f\"{i}5mA_P\"],data2[f\"{i}5mA_R\"])\n",
    "\n",
    "axs[1].set_xlabel('P(mW)')\n",
    "axs[1].set_ylabel('R(Ω)')\n",
    "axs[1].legend([f'{i}5mA' for i in range(1,5)])\n",
    "axs[1].spines[[\"top\", \"right\"]].set_visible(False)\n",
    "\n",
    "axs[0].grid(alpha=0.2)\n",
    "axs[1].grid(alpha=0.2)\n",
    "\n",
    "plt.tight_layout()"
   ]
  },
  {
   "cell_type": "markdown",
   "id": "b261e3a4-ea76-4042-b8c1-6a6b751e43e7",
   "metadata": {
    "tags": []
   },
   "source": [
    "## 表3"
   ]
  },
  {
   "cell_type": "code",
   "execution_count": 5,
   "id": "ce1f23a7-2764-4c5c-af1c-f979ef4f7f05",
   "metadata": {
    "tags": []
   },
   "outputs": [
    {
     "data": {
      "text/plain": [
       "array([ 46.66666667,  59.14285714,  81.6       , 132.66666667])"
      ]
     },
     "execution_count": 5,
     "metadata": {},
     "output_type": "execute_result"
    }
   ],
   "source": [
    "U_0=np.array([2.10,2.07,2.04,1.99])\n",
    "I_s=np.array([45.0,35.0,25.0,15.0])\n",
    "R_i=U_0/(I_s*0.001)\n",
    "R_i"
   ]
  },
  {
   "cell_type": "code",
   "execution_count": 6,
   "id": "89673635-014a-4861-91cf-1d2326908a62",
   "metadata": {
    "tags": []
   },
   "outputs": [
    {
     "data": {
      "text/plain": [
       "[42.72300469483568, 52.85285285285286, 72.88135593220338, 121.16788321167883]"
      ]
     },
     "execution_count": 6,
     "metadata": {},
     "output_type": "execute_result"
    }
   ],
   "source": [
    "R_max=[data2[f\"{i}5mA_R\"].iloc[data2[f\"{i}5mA_P\"].idxmax()] for i in range(1,5)][::-1]\n",
    "R_max"
   ]
  },
  {
   "cell_type": "code",
   "execution_count": 7,
   "id": "00c3a083-2592-42fc-95fd-496c3873ae25",
   "metadata": {
    "tags": []
   },
   "outputs": [
    {
     "data": {
      "text/plain": [
       "array([0.91549296, 0.89364727, 0.89315387, 0.91332575])"
      ]
     },
     "execution_count": 7,
     "metadata": {},
     "output_type": "execute_result"
    }
   ],
   "source": [
    "R_max/R_i"
   ]
  },
  {
   "cell_type": "markdown",
   "id": "30c6d899-ebcb-4499-a8f9-6ed319cb4def",
   "metadata": {
    "tags": []
   },
   "source": [
    "## 表4"
   ]
  },
  {
   "cell_type": "code",
   "execution_count": 8,
   "id": "aa9d7001-eb55-4f41-a06e-c230ea199130",
   "metadata": {
    "tags": []
   },
   "outputs": [
    {
     "data": {
      "text/plain": [
       "[77.53200000000001, 58.608, 40.592, 22.741999999999997]"
      ]
     },
     "execution_count": 8,
     "metadata": {},
     "output_type": "execute_result"
    }
   ],
   "source": [
    "P_max=[data2[f\"{i}5mA_P\"].iloc[data2[f\"{i}5mA_P\"].idxmax()] for i in range(1,5)][::-1]\n",
    "P_max"
   ]
  },
  {
   "cell_type": "code",
   "execution_count": 9,
   "id": "1f6d11e2-ee12-437a-822f-fc380259b1d6",
   "metadata": {
    "tags": []
   },
   "outputs": [
    {
     "data": {
      "text/plain": [
       "array([94.5 , 72.45, 51.  , 29.85])"
      ]
     },
     "execution_count": 9,
     "metadata": {},
     "output_type": "execute_result"
    }
   ],
   "source": [
    "a=U_0*I_s\n",
    "a"
   ]
  },
  {
   "cell_type": "code",
   "execution_count": 10,
   "id": "538b3a4c-041c-450d-b6bc-ef884b189e9f",
   "metadata": {
    "tags": []
   },
   "outputs": [
    {
     "data": {
      "text/plain": [
       "array([0.82044444, 0.8089441 , 0.79592157, 0.76187605])"
      ]
     },
     "execution_count": 10,
     "metadata": {},
     "output_type": "execute_result"
    }
   ],
   "source": [
    "F=P_max/a\n",
    "F"
   ]
  },
  {
   "cell_type": "markdown",
   "id": "bfbd9384-2460-48cb-9a0e-a2ff6a3e72cb",
   "metadata": {
    "tags": []
   },
   "source": [
    "## 其他"
   ]
  },
  {
   "cell_type": "code",
   "execution_count": 11,
   "id": "400d5424-413d-48c5-b255-1eb55a669de9",
   "metadata": {
    "tags": []
   },
   "outputs": [
    {
     "data": {
      "text/plain": [
       "0.7967965398379875"
      ]
     },
     "execution_count": 11,
     "metadata": {},
     "output_type": "execute_result"
    }
   ],
   "source": [
    "F_mean=np.mean(F)\n",
    "F_mean"
   ]
  },
  {
   "cell_type": "code",
   "execution_count": 12,
   "id": "f7393bd9-de32-4ccb-a635-8d4ba1499f8f",
   "metadata": {
    "tags": []
   },
   "outputs": [
    {
     "data": {
      "text/plain": [
       "0.012672124909439003"
      ]
     },
     "execution_count": 12,
     "metadata": {},
     "output_type": "execute_result"
    }
   ],
   "source": [
    "S_F=np.sqrt(np.sum((F-F_mean)**2)/(3*4))\n",
    "S_F"
   ]
  },
  {
   "cell_type": "code",
   "execution_count": 13,
   "id": "4dfe305b-5698-4a83-85de-37edddfcc47d",
   "metadata": {
    "tags": []
   },
   "outputs": [
    {
     "data": {
      "text/plain": [
       "1.5903840285269846"
      ]
     },
     "execution_count": 13,
     "metadata": {},
     "output_type": "execute_result"
    }
   ],
   "source": [
    "E=S_F/F_mean*100\n",
    "E"
   ]
  }
 ],
 "metadata": {
  "kernelspec": {
   "display_name": "Python 3 (ipykernel)",
   "language": "python",
   "name": "python3"
  },
  "language_info": {
   "codemirror_mode": {
    "name": "ipython",
    "version": 3
   },
   "file_extension": ".py",
   "mimetype": "text/x-python",
   "name": "python",
   "nbconvert_exporter": "python",
   "pygments_lexer": "ipython3",
   "version": "3.11.4"
  }
 },
 "nbformat": 4,
 "nbformat_minor": 5
}
