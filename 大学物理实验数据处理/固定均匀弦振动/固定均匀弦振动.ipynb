{
 "cells": [
  {
   "cell_type": "code",
   "execution_count": 1,
   "id": "7cd1fc27-f1f9-48e9-9d1f-6a67f2f64564",
   "metadata": {
    "tags": []
   },
   "outputs": [],
   "source": [
    "import pandas as pd\n",
    "import numpy as np"
   ]
  },
  {
   "cell_type": "code",
   "execution_count": 2,
   "id": "b4af6f1f-0df0-42d7-a728-6b82e55ffdcd",
   "metadata": {
    "tags": []
   },
   "outputs": [],
   "source": [
    "#端点位置cm\n",
    "A=10\n",
    "B=70\n",
    "L=B-A\n",
    "#张力\n",
    "T=5.88\n",
    "\n",
    "#线密度\n",
    "p=5.62e-4"
   ]
  },
  {
   "cell_type": "code",
   "execution_count": 3,
   "id": "c6e30fad-3a24-4756-9e67-27e5770f54d5",
   "metadata": {
    "tags": []
   },
   "outputs": [
    {
     "data": {
      "text/html": [
       "<div>\n",
       "<style scoped>\n",
       "    .dataframe tbody tr th:only-of-type {\n",
       "        vertical-align: middle;\n",
       "    }\n",
       "\n",
       "    .dataframe tbody tr th {\n",
       "        vertical-align: top;\n",
       "    }\n",
       "\n",
       "    .dataframe thead th {\n",
       "        text-align: right;\n",
       "    }\n",
       "</style>\n",
       "<table border=\"1\" class=\"dataframe\">\n",
       "  <thead>\n",
       "    <tr style=\"text-align: right;\">\n",
       "      <th></th>\n",
       "      <th>波腹数n</th>\n",
       "      <th>波长cm</th>\n",
       "      <th>共振频率</th>\n",
       "      <th>频率计算值</th>\n",
       "      <th>频率差</th>\n",
       "      <th>传播速度</th>\n",
       "      <th>传播速度(测量值)</th>\n",
       "    </tr>\n",
       "  </thead>\n",
       "  <tbody>\n",
       "    <tr>\n",
       "      <th>0</th>\n",
       "      <td>1</td>\n",
       "      <td>120.0</td>\n",
       "      <td>87.98</td>\n",
       "      <td>85.239179</td>\n",
       "      <td>2.740821</td>\n",
       "      <td>102.287015</td>\n",
       "      <td>105.576</td>\n",
       "    </tr>\n",
       "    <tr>\n",
       "      <th>1</th>\n",
       "      <td>2</td>\n",
       "      <td>60.0</td>\n",
       "      <td>182.70</td>\n",
       "      <td>170.478358</td>\n",
       "      <td>12.221642</td>\n",
       "      <td>102.287015</td>\n",
       "      <td>109.620</td>\n",
       "    </tr>\n",
       "    <tr>\n",
       "      <th>2</th>\n",
       "      <td>3</td>\n",
       "      <td>40.0</td>\n",
       "      <td>275.80</td>\n",
       "      <td>255.717538</td>\n",
       "      <td>20.082462</td>\n",
       "      <td>102.287015</td>\n",
       "      <td>110.320</td>\n",
       "    </tr>\n",
       "  </tbody>\n",
       "</table>\n",
       "</div>"
      ],
      "text/plain": [
       "   波腹数n   波长cm    共振频率       频率计算值        频率差        传播速度  传播速度(测量值)\n",
       "0     1  120.0   87.98   85.239179   2.740821  102.287015    105.576\n",
       "1     2   60.0  182.70  170.478358  12.221642  102.287015    109.620\n",
       "2     3   40.0  275.80  255.717538  20.082462  102.287015    110.320"
      ]
     },
     "execution_count": 3,
     "metadata": {},
     "output_type": "execute_result"
    }
   ],
   "source": [
    "table1=pd.read_csv(\"固定均匀弦振动.csv\")\n",
    "\n",
    "table1[\"波长cm\"]=(2*L)/table1[\"波腹数n\"]\n",
    "table1[\"频率计算值\"]=np.sqrt(T/p)*(table1[\"波腹数n\"]/(2*L*0.01))\n",
    "table1[\"频率差\"]=table1[\"共振频率\"]-table1[\"频率计算值\"]\n",
    "table1[\"传播速度\"]=(2*L*0.01*table1[\"频率计算值\"])/table1[\"波腹数n\"]\n",
    "table1[\"传播速度(测量值)\"]=(2*L*0.01*table1[\"共振频率\"])/table1[\"波腹数n\"]\n",
    "table1"
   ]
  },
  {
   "cell_type": "code",
   "execution_count": 4,
   "id": "388f80d0-0d2d-4811-a055-c73dd27f5a6d",
   "metadata": {
    "tags": []
   },
   "outputs": [
    {
     "data": {
      "text/plain": [
       "(108.50533333333333, 1.9528888888888833, 1.7998091235658618)"
      ]
     },
     "execution_count": 4,
     "metadata": {},
     "output_type": "execute_result"
    }
   ],
   "source": [
    "V_mean=np.mean(table1[\"传播速度(测量值)\"])\n",
    "s_v=np.sum(np.abs(table1[\"传播速度(测量值)\"]-V_mean))/3\n",
    "E_v=(s_v/V_mean)*100\n",
    "V_mean,s_v,E_v"
   ]
  }
 ],
 "metadata": {
  "kernelspec": {
   "display_name": "Python 3 (ipykernel)",
   "language": "python",
   "name": "python3"
  },
  "language_info": {
   "codemirror_mode": {
    "name": "ipython",
    "version": 3
   },
   "file_extension": ".py",
   "mimetype": "text/x-python",
   "name": "python",
   "nbconvert_exporter": "python",
   "pygments_lexer": "ipython3",
   "version": "3.11.4"
  }
 },
 "nbformat": 4,
 "nbformat_minor": 5
}
